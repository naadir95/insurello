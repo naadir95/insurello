{
 "cells": [
  {
   "cell_type": "markdown",
   "metadata": {},
   "source": [
    "# Connect to a Database"
   ]
  },
  {
   "cell_type": "code",
   "execution_count": 2,
   "metadata": {},
   "outputs": [
    {
     "name": "stdout",
     "output_type": "stream",
     "text": [
      "connected to database\n"
     ]
    }
   ],
   "source": [
    "import psycopg2\n",
    "def db_connection():\n",
    "    try:\n",
    "        conn = psycopg2.connect(dbname='insurello',\n",
    "                            host='localhost',\n",
    "                            port='5432',\n",
    "                            user='postgres',\n",
    "                            password='postgres')\n",
    "        print('connected to database')\n",
    "    except:\n",
    "        raise Exception(\"Can't connect to database, make sure you have the correct .env file \\n\")\n",
    "    return conn\n",
    "\n",
    "conn = db_connection()"
   ]
  },
  {
   "cell_type": "markdown",
   "metadata": {},
   "source": [
    "Typically this analysis would be done with a BI tool but for the purpose of this case we will use pandas."
   ]
  },
  {
   "cell_type": "code",
   "execution_count": 3,
   "metadata": {},
   "outputs": [
    {
     "data": {
      "text/html": [
       "<div>\n",
       "<style scoped>\n",
       "    .dataframe tbody tr th:only-of-type {\n",
       "        vertical-align: middle;\n",
       "    }\n",
       "\n",
       "    .dataframe tbody tr th {\n",
       "        vertical-align: top;\n",
       "    }\n",
       "\n",
       "    .dataframe thead th {\n",
       "        text-align: right;\n",
       "    }\n",
       "</style>\n",
       "<table border=\"1\" class=\"dataframe\">\n",
       "  <thead>\n",
       "    <tr style=\"text-align: right;\">\n",
       "      <th></th>\n",
       "      <th>case_id</th>\n",
       "      <th>event</th>\n",
       "      <th>timestamp</th>\n",
       "      <th>aggregate_type</th>\n",
       "    </tr>\n",
       "  </thead>\n",
       "  <tbody>\n",
       "    <tr>\n",
       "      <th>0</th>\n",
       "      <td>125044</td>\n",
       "      <td>claim</td>\n",
       "      <td>2020-09-06 00:01:00.277</td>\n",
       "      <td>case</td>\n",
       "    </tr>\n",
       "    <tr>\n",
       "      <th>1</th>\n",
       "      <td>125922</td>\n",
       "      <td>claim</td>\n",
       "      <td>2020-09-09 08:18:40.970</td>\n",
       "      <td>case</td>\n",
       "    </tr>\n",
       "    <tr>\n",
       "      <th>2</th>\n",
       "      <td>25046</td>\n",
       "      <td>claim</td>\n",
       "      <td>2019-05-09 21:28:34.936</td>\n",
       "      <td>case</td>\n",
       "    </tr>\n",
       "    <tr>\n",
       "      <th>3</th>\n",
       "      <td>130529</td>\n",
       "      <td>claim</td>\n",
       "      <td>2020-09-26 17:29:42.492</td>\n",
       "      <td>case</td>\n",
       "    </tr>\n",
       "    <tr>\n",
       "      <th>4</th>\n",
       "      <td>246885</td>\n",
       "      <td>claim</td>\n",
       "      <td>2021-10-26 16:54:58.983</td>\n",
       "      <td>case</td>\n",
       "    </tr>\n",
       "  </tbody>\n",
       "</table>\n",
       "</div>"
      ],
      "text/plain": [
       "   case_id  event                timestamp aggregate_type\n",
       "0   125044  claim  2020-09-06 00:01:00.277           case\n",
       "1   125922  claim  2020-09-09 08:18:40.970           case\n",
       "2    25046  claim  2019-05-09 21:28:34.936           case\n",
       "3   130529  claim  2020-09-26 17:29:42.492           case\n",
       "4   246885  claim  2021-10-26 16:54:58.983           case"
      ]
     },
     "execution_count": 3,
     "metadata": {},
     "output_type": "execute_result"
    }
   ],
   "source": [
    "import pandas as pd\n",
    "# Test a simple query\n",
    "simple_query = pd.read_sql(\"select * from case_data limit 5\", conn)\n",
    "simple_query"
   ]
  },
  {
   "cell_type": "markdown",
   "metadata": {},
   "source": [
    "# Testing our database\n",
    "#### How many payouts do we have per a customer?"
   ]
  },
  {
   "cell_type": "code",
   "execution_count": 6,
   "metadata": {},
   "outputs": [
    {
     "data": {
      "text/plain": [
       "Text(0.5, 1.0, 'Payouts per a customer')"
      ]
     },
     "execution_count": 6,
     "metadata": {},
     "output_type": "execute_result"
    },
    {
     "data": {
      "image/png": "[encoded data removed]",
      "text/plain": [
       "<Figure size 432x288 with 1 Axes>"
      ]
     },
     "metadata": {
      "needs_background": "light"
     },
     "output_type": "display_data"
    }
   ],
   "source": [
    "payouts_per_customer_query = \"\"\"\n",
    "with\n",
    "joined_data as(\n",
    "select\n",
    "payout_id,\n",
    "pd.\"insuranceCaseId\",\n",
    "icd.case_id,\n",
    "cd.\"customerId\" \n",
    "from payout_data pd \n",
    "left join insurance_case_data icd on pd.\"insuranceCaseId\"  = icd.\"insurance_case_id\"\n",
    "left join customer_data cd  on icd.\"case_id\" = cd.\"case_id\"\n",
    ")\n",
    "select\n",
    "\"customerId\",\n",
    "count(*)\n",
    "from joined_data\n",
    "where \"customerId\" is not null --there are some insurance_case_ids that are orphans in the payout data table\n",
    "group by \"customerId\"\n",
    "\n",
    "\"\"\"\n",
    "payouts_per_customer = pd.read_sql(payouts_per_customer_query, conn)\n",
    "\n",
    "plot = payouts_per_customer.plot(kind='hist')\n",
    "plot.set_xlabel(\"Number of payouts\")\n",
    "plot.set_ylabel(\"Frequency\")\n",
    "plot.set_title(\"Payouts per a customer\")"
   ]
  },
  {
   "cell_type": "markdown",
   "metadata": {},
   "source": [
    "Most customer have just one payout with some, but very few, having 2 or 3 payouts"
   ]
  },
  {
   "cell_type": "markdown",
   "metadata": {},
   "source": [
    "#### how long does the customer wait between the incident until they create a claim at Insurello?”"
   ]
  },
  {
   "cell_type": "code",
   "execution_count": 5,
   "metadata": {},
   "outputs": [
    {
     "data": {
      "text/plain": [
       "Text(0.5, 1.0, 'Distribution of claim reporting delay')"
      ]
     },
     "execution_count": 5,
     "metadata": {},
     "output_type": "execute_result"
    },
    {
     "data": {
      "image/png": "[encoded data removed]",
      "text/plain": [
       "<Figure size 432x288 with 1 Axes>"
      ]
     },
     "metadata": {
      "needs_background": "light"
     },
     "output_type": "display_data"
    }
   ],
   "source": [
    "query_incident_till_claim = \"\"\"\n",
    "with\n",
    "joined_data as(\n",
    "select\n",
    "insurance_case_Id,\n",
    "icd.case_id,\n",
    "incident.date_of_incident ::date,\n",
    "--assume timestamp is claim date \n",
    "icd.\"timestamp\"::date  as claim_date\n",
    "from incident\n",
    "left join insurance_case_data icd on icd.case_id = incident.case_id \n",
    ")\n",
    "select\n",
    "*\n",
    "from joined_data\n",
    "\"\"\"\n",
    "\n",
    "from datetime import datetime\n",
    "\n",
    "def days_between(d1, d2):\n",
    "    d1 = datetime.strptime(d1, \"%Y-%m-%d\")\n",
    "    d2 = datetime.strptime(d2, \"%Y-%m-%d\")\n",
    "    return abs((d2 - d1).days)\n",
    "\n",
    "incident_till_claim = pd.read_sql(query_incident_till_claim, conn)\n",
    "\n",
    "incident_till_claim.claim_date = pd.to_datetime(incident_till_claim.claim_date)\n",
    "incident_till_claim.date_of_incident = pd.to_datetime(incident_till_claim.date_of_incident)\n",
    "incident_till_claim['day_diff'] = (incident_till_claim.claim_date - incident_till_claim.date_of_incident ).dt.days\n",
    "\n",
    "plot = incident_till_claim['day_diff'].plot(kind='hist')\n",
    "plot.set_xlabel(\"Days between incident and claim\")\n",
    "plot.set_ylabel(\"Frequency\")\n",
    "plot.set_title(\"Distribution of claim reporting delay\")"
   ]
  },
  {
   "cell_type": "markdown",
   "metadata": {},
   "source": [
    "Distribution of incident to claim time in days"
   ]
  }
 ],
 "metadata": {
  "interpreter": {
   "hash": "c6e4e9f98eb68ad3b7c296f83d20e6de614cb42e90992a65aa266555a3137d0d"
  },
  "kernelspec": {
   "display_name": "Python 3.9.7 ('base')",
   "language": "python",
   "name": "python3"
  },
  "language_info": {
   "codemirror_mode": {
    "name": "ipython",
    "version": 3
   },
   "file_extension": ".py",
   "mimetype": "text/x-python",
   "name": "python",
   "nbconvert_exporter": "python",
   "pygments_lexer": "ipython3",
   "version": "3.9.7"
  },
  "orig_nbformat": 4
 },
 "nbformat": 4,
 "nbformat_minor": 2
}
