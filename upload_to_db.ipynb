{
 "cells": [
  {
   "cell_type": "code",
   "execution_count": 10,
   "metadata": {},
   "outputs": [],
   "source": [
    "import pandas as pd\n",
    "CLEANED_DATA_FOLDER = 'cleaned_data'\n",
    "TABLES = ['case_data','customer_data','insurance_case_data','payout_data','incident','person','occupation']"
   ]
  },
  {
   "cell_type": "markdown",
   "metadata": {},
   "source": [
    "To set up a db run:\n",
    "\n",
    "```psql```\n",
    "\n",
    " ```create database insurello```"
   ]
  },
  {
   "cell_type": "code",
   "execution_count": 14,
   "metadata": {},
   "outputs": [
    {
     "ename": "SyntaxError",
     "evalue": "invalid syntax (3332728400.py, line 3)",
     "output_type": "error",
     "traceback": [
      "\u001b[0;36m  File \u001b[0;32m\"/var/folders/0s/6bp_t1z139g5p149wvrcd6vc0000gn/T/ipykernel_49649/3332728400.py\"\u001b[0;36m, line \u001b[0;32m3\u001b[0m\n\u001b[0;31m    from 'env.json' import cred\u001b[0m\n\u001b[0m         ^\u001b[0m\n\u001b[0;31mSyntaxError\u001b[0m\u001b[0;31m:\u001b[0m invalid syntax\n"
     ]
    }
   ],
   "source": [
    "from pandas import read_csv, to_datetime\n",
    "from sqlalchemy import create_engine\n",
    "# Move to .env file\n",
    "cred = {'dbname': 'insurello',\n",
    "        \"host\": 'localhost',\n",
    "        \"user\": 'postgres',\n",
    "        \"password\": 'postgres',\n",
    "        \"port\": '5432'}\n",
    "engine = create_engine(\n",
    "    f\"postgresql://{cred['user']}@{cred['host']}:{cred['port']}/{cred['dbname']}\")\n",
    "conn = engine.raw_connection()\n",
    "cur = conn.cursor()\n"
   ]
  },
  {
   "cell_type": "code",
   "execution_count": 12,
   "metadata": {},
   "outputs": [],
   "source": [
    "for table in TABLES:\n",
    "    df = pd.read_csv(f'{CLEANED_DATA_FOLDER}/{table}.csv')\n",
    "    df.to_sql(f'{table}', engine, if_exists='replace', index=False)\n",
    "conn.commit()\n",
    "# no referential integrity is set up this way unfortunately. A ORM would be a better option"
   ]
  }
 ],
 "metadata": {
  "interpreter": {
   "hash": "c6e4e9f98eb68ad3b7c296f83d20e6de614cb42e90992a65aa266555a3137d0d"
  },
  "kernelspec": {
   "display_name": "Python 3.9.7 ('base')",
   "language": "python",
   "name": "python3"
  },
  "language_info": {
   "codemirror_mode": {
    "name": "ipython",
    "version": 3
   },
   "file_extension": ".py",
   "mimetype": "text/x-python",
   "name": "python",
   "nbconvert_exporter": "python",
   "pygments_lexer": "ipython3",
   "version": "3.9.7"
  },
  "orig_nbformat": 4
 },
 "nbformat": 4,
 "nbformat_minor": 2
}
