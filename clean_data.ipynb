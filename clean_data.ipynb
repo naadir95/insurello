{
 "cells": [
  {
   "cell_type": "code",
   "execution_count": 30,
   "metadata": {},
   "outputs": [],
   "source": [
    "import pandas as pd"
   ]
  },
  {
   "cell_type": "code",
   "execution_count": 31,
   "metadata": {},
   "outputs": [],
   "source": [
    "TABLES = ['case_data','customer_data', 'insurance_case_data','payout_data']\n",
    "DATA_FOLDER = 'data'\n",
    "# creating dataframe names dynamically is typically a bad practice, hardcode the names for now\n",
    "df_case_data = pd.read_csv(f'{DATA_FOLDER}/case_data.csv')\n"
   ]
  },
  {
   "cell_type": "code",
   "execution_count": 32,
   "metadata": {},
   "outputs": [],
   "source": [
    "CLEANED_DATA_FOLDER = 'cleaned_data'\n",
    "import os\n",
    "try:\n",
    "    os.makedirs(f'{CLEANED_DATA_FOLDER}/')\n",
    "except:\n",
    "    pass"
   ]
  },
  {
   "cell_type": "code",
   "execution_count": 33,
   "metadata": {},
   "outputs": [],
   "source": [
    "import json\n",
    "\n",
    "def replace_strings(column, replace_dicts, regex=True):\n",
    "    \"\"\"Replaces strings in text for a column of dicts\n",
    "\n",
    "    Args:\n",
    "        column (df): column of a dataframe\n",
    "        replace_dicts (dict): dictionary\n",
    "        regex (bool, optional): Determines if the passed-in pattern is a regular expression. Defaults to True.\n",
    "\n",
    "    Returns:\n",
    "        df: column with strings updated\n",
    "    \"\"\"\n",
    "    new_col = column.copy()\n",
    "    for old, new in replace_dicts:\n",
    "        new_col = new_col.str.replace(old, new, regex=regex)\n",
    "    return new_col\n"
   ]
  },
  {
   "cell_type": "code",
   "execution_count": 34,
   "metadata": {},
   "outputs": [],
   "source": [
    "def flatten_objects(df):\n",
    "    extracted_objects = pd.json_normalize(replace_strings(df.payload, [\n",
    "        (\"True\", \"true\"),\n",
    "        (\"None\", \"null\"),\n",
    "        (\"False\", \"false\"),\n",
    "        (\"'\", '\"')\n",
    "    ]).apply(json.loads))\n",
    "    df_output = pd.concat([df,extracted_objects], axis=1)\n",
    "    del df_output['payload']\n",
    "    \n",
    "    return df_output"
   ]
  },
  {
   "cell_type": "code",
   "execution_count": 35,
   "metadata": {},
   "outputs": [],
   "source": [
    "tables_to_flatten = ['customer_data','insurance_case_data','payout_data']\n",
    "for table in tables_to_flatten:\n",
    "    df = pd.read_csv(f'{DATA_FOLDER}/{table}.csv')\n",
    "    flattened_df = flatten_objects(df)\n",
    "    flattened_df.to_csv(f'{CLEANED_DATA_FOLDER}/{table}.csv', index = False)\n"
   ]
  },
  {
   "cell_type": "code",
   "execution_count": 36,
   "metadata": {},
   "outputs": [],
   "source": [
    "# Split out the case data table into normalized tables\n",
    "def normalize_object_data(df,objects_to_extract):\n",
    "    for data_point in objects_to_extract:\n",
    "        payload_dict = replace_strings(df.payload, [\n",
    "            (\"True\", \"true\"),\n",
    "            (\"None\", \"null\"),\n",
    "            (\"False\", \"false\"),\n",
    "            (\"'\", '\"')\n",
    "        ]).apply(json.loads)\n",
    "\n",
    "        payload_data = payload_dict.apply(lambda x: x[f'{data_point}'])\n",
    "        df_data = pd.concat([df['case_id'],pd.json_normalize(payload_data)], axis=1)\n",
    "        df_data.to_csv(f'{CLEANED_DATA_FOLDER}/{data_point}.csv', index = False)\n",
    "# Will only normalize data for df_case_data\n",
    "objects_to_normalize = ['person','incident','occupation']\n",
    "normalize_object_data(df_case_data,objects_to_normalize)"
   ]
  },
  {
   "cell_type": "code",
   "execution_count": 37,
   "metadata": {},
   "outputs": [],
   "source": [
    "del df_case_data['payload']\n",
    "df_case_data.to_csv(f'{CLEANED_DATA_FOLDER}/case_data.csv', index = False)\n"
   ]
  }
 ],
 "metadata": {
  "interpreter": {
   "hash": "31f2aee4e71d21fbe5cf8b01ff0e069b9275f58929596ceb00d14d90e3e16cd6"
  },
  "kernelspec": {
   "display_name": "Python 3.8.9 64-bit",
   "language": "python",
   "name": "python3"
  },
  "language_info": {
   "codemirror_mode": {
    "name": "ipython",
    "version": 3
   },
   "file_extension": ".py",
   "mimetype": "text/x-python",
   "name": "python",
   "nbconvert_exporter": "python",
   "pygments_lexer": "ipython3",
   "version": "3.9.7"
  },
  "orig_nbformat": 4
 },
 "nbformat": 4,
 "nbformat_minor": 2
}
